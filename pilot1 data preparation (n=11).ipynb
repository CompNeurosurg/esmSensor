{
 "cells": [
  {
   "cell_type": "code",
   "execution_count": 1,
   "metadata": {},
   "outputs": [],
   "source": [
    "from mne.filter import filter_data\n",
    "import pandas as pd\n",
    "import matplotlib.pyplot as plt\n",
    "%matplotlib inline\n",
    "import pyedflib\n",
    "import numpy as np\n",
    "from datetime import timedelta\n",
    "from scipy.signal import find_peaks_cwt\n",
    "from scipy.stats import spearmanr\n",
    "\n",
    "import seaborn as sns\n",
    "\n",
    "from os import listdir\n",
    "    #method listdir() returns a list containing the names of the entries in the directory given by path.\n",
    "from os.path import isfile, join\n",
    "    #returns true if file in path is an existing regular file"
   ]
  },
  {
   "cell_type": "code",
   "execution_count": 2,
   "metadata": {
    "scrolled": true
   },
   "outputs": [
    {
     "data": {
      "text/plain": [
       "'/Users/jeroenhabets/Documents/pilot1_workdata'"
      ]
     },
     "execution_count": 2,
     "metadata": {},
     "output_type": "execute_result"
    }
   ],
   "source": [
    "## !! set correct working directory\n",
    "import os\n",
    "path=\"/Users/jeroenhabets/Documents/pilot1_workdata\"\n",
    "os.chdir(path)\n",
    "os.getcwd() #check"
   ]
  },
  {
   "cell_type": "code",
   "execution_count": 3,
   "metadata": {
    "scrolled": false
   },
   "outputs": [
    {
     "name": "stderr",
     "output_type": "stream",
     "text": [
      "/anaconda3/lib/python3.6/site-packages/ipykernel_launcher.py:11: SettingWithCopyWarning: \n",
      "A value is trying to be set on a copy of a slice from a DataFrame.\n",
      "Try using .loc[row_indexer,col_indexer] = value instead\n",
      "\n",
      "See the caveats in the documentation: http://pandas.pydata.org/pandas-docs/stable/indexing.html#indexing-view-versus-copy\n",
      "  # This is added back by InteractiveShellApp.init_path()\n",
      "/anaconda3/lib/python3.6/site-packages/ipykernel_launcher.py:18: SettingWithCopyWarning: \n",
      "A value is trying to be set on a copy of a slice from a DataFrame.\n",
      "Try using .loc[row_indexer,col_indexer] = value instead\n",
      "\n",
      "See the caveats in the documentation: http://pandas.pydata.org/pandas-docs/stable/indexing.html#indexing-view-versus-copy\n",
      "/anaconda3/lib/python3.6/site-packages/ipykernel_launcher.py:20: SettingWithCopyWarning: \n",
      "A value is trying to be set on a copy of a slice from a DataFrame.\n",
      "Try using .loc[row_indexer,col_indexer] = value instead\n",
      "\n",
      "See the caveats in the documentation: http://pandas.pydata.org/pandas-docs/stable/indexing.html#indexing-view-versus-copy\n"
     ]
    }
   ],
   "source": [
    "#  read in continuous beeps\n",
    "esm = df = pd.read_stata(path+'/PRDB_20181122T112857/SANPAR_BE.dta',convert_categoricals = False)\n",
    "# define the relevant parameters\n",
    "esm = esm[['subjno', 'mood_well', 'mood_down', 'mood_fright', 'mood_tense', 'phy_sleepy', 'phy_tired',\n",
    "       'mood_cheerf', 'mood_relax', 'thou_concent', 'pat_hallu', 'loc_where',\n",
    "       'soc_who', 'soc_who02', 'soc_who03', 'act_what', 'act_what02',\n",
    "       'act_what03', 'act_norpob', 'sanpar_been', 'sanpar_stil',\n",
    "       'sanpar_spreken', 'sanpar_lopen', 'sanpar_tremor', 'sanpar_traag',\n",
    "       'sanpar_stijf', 'sanpar_spann', 'sanpar_beweeg', 'sanpar_onoff',\n",
    "       'sanpar_medic', 'beep_disturb', '_datetime', '_datetime_e', 'dayno_n', 'beepno_n']]\n",
    "esm['duration'] = esm['_datetime_e']-esm['_datetime']\n",
    "\n",
    "mapNames={}\n",
    "for i in range(20):\n",
    "    mapNames[9009989+i]=110001+i\n",
    "### PAY ATTENTION WITH DROP OUT CASTOR 110012 !!!\n",
    "\n",
    "esm['castorID'] = [mapNames[e] for e in esm['subjno']]\n",
    "\n",
    "esm['dateOnly'] = [pd.Timestamp.date(esm['_datetime'][row]) for row in range(len(esm))]\n",
    "\n",
    "\n",
    "# PM: include castor data"
   ]
  },
  {
   "cell_type": "code",
   "execution_count": 4,
   "metadata": {
    "scrolled": true
   },
   "outputs": [
    {
     "name": "stderr",
     "output_type": "stream",
     "text": [
      "/anaconda3/lib/python3.6/site-packages/ipykernel_launcher.py:6: SettingWithCopyWarning: \n",
      "A value is trying to be set on a copy of a slice from a DataFrame.\n",
      "Try using .loc[row_indexer,col_indexer] = value instead\n",
      "\n",
      "See the caveats in the documentation: http://pandas.pydata.org/pandas-docs/stable/indexing.html#indexing-view-versus-copy\n",
      "  \n",
      "/anaconda3/lib/python3.6/site-packages/ipykernel_launcher.py:12: SettingWithCopyWarning: \n",
      "A value is trying to be set on a copy of a slice from a DataFrame.\n",
      "Try using .loc[row_indexer,col_indexer] = value instead\n",
      "\n",
      "See the caveats in the documentation: http://pandas.pydata.org/pandas-docs/stable/indexing.html#indexing-view-versus-copy\n",
      "  if sys.path[0] == '':\n",
      "/anaconda3/lib/python3.6/site-packages/ipykernel_launcher.py:16: SettingWithCopyWarning: \n",
      "A value is trying to be set on a copy of a slice from a DataFrame.\n",
      "Try using .loc[row_indexer,col_indexer] = value instead\n",
      "\n",
      "See the caveats in the documentation: http://pandas.pydata.org/pandas-docs/stable/indexing.html#indexing-view-versus-copy\n",
      "  app.launch_new_instance()\n"
     ]
    }
   ],
   "source": [
    "#  read in morning beeps\n",
    "morning = df = pd.read_stata(path+'/PRDB_20181122T112857/SANPAR_MOR.dta',convert_categoricals = False)\n",
    "# define the relevant parameters\n",
    "morning = morning[['subjno', 'mor_sleptwell', 'sanpar_awake', 'mor_rested', 'sanpar_lich', \n",
    "                   'sanpar_tired', '_datetime', '_datetime_e']]\n",
    "morning['duration'] = morning['_datetime_e']- morning['_datetime']\n",
    "\n",
    "mapNames={}\n",
    "for i in range(20):\n",
    "    mapNames[9009989+i]=110001+i\n",
    "\n",
    "morning['castorID'] = [mapNames[e] for e in morning['subjno']]\n",
    "\n",
    "# create dat only item for joining dataframes\n",
    "\n",
    "morning['dateOnly'] = [pd.Timestamp.date(morning['_datetime'][row]) for row in range(len(morning))]\n"
   ]
  },
  {
   "cell_type": "code",
   "execution_count": 5,
   "metadata": {
    "scrolled": true
   },
   "outputs": [
    {
     "name": "stderr",
     "output_type": "stream",
     "text": [
      "/anaconda3/lib/python3.6/site-packages/ipykernel_launcher.py:5: SettingWithCopyWarning: \n",
      "A value is trying to be set on a copy of a slice from a DataFrame.\n",
      "Try using .loc[row_indexer,col_indexer] = value instead\n",
      "\n",
      "See the caveats in the documentation: http://pandas.pydata.org/pandas-docs/stable/indexing.html#indexing-view-versus-copy\n",
      "  \"\"\"\n",
      "/anaconda3/lib/python3.6/site-packages/ipykernel_launcher.py:11: SettingWithCopyWarning: \n",
      "A value is trying to be set on a copy of a slice from a DataFrame.\n",
      "Try using .loc[row_indexer,col_indexer] = value instead\n",
      "\n",
      "See the caveats in the documentation: http://pandas.pydata.org/pandas-docs/stable/indexing.html#indexing-view-versus-copy\n",
      "  # This is added back by InteractiveShellApp.init_path()\n",
      "/anaconda3/lib/python3.6/site-packages/ipykernel_launcher.py:14: SettingWithCopyWarning: \n",
      "A value is trying to be set on a copy of a slice from a DataFrame.\n",
      "Try using .loc[row_indexer,col_indexer] = value instead\n",
      "\n",
      "See the caveats in the documentation: http://pandas.pydata.org/pandas-docs/stable/indexing.html#indexing-view-versus-copy\n",
      "  \n",
      "/anaconda3/lib/python3.6/site-packages/ipykernel_launcher.py:18: SettingWithCopyWarning: \n",
      "A value is trying to be set on a copy of a slice from a DataFrame\n",
      "\n",
      "See the caveats in the documentation: http://pandas.pydata.org/pandas-docs/stable/indexing.html#indexing-view-versus-copy\n",
      "/anaconda3/lib/python3.6/site-packages/IPython/core/interactiveshell.py:2910: SettingWithCopyWarning: \n",
      "A value is trying to be set on a copy of a slice from a DataFrame\n",
      "\n",
      "See the caveats in the documentation: http://pandas.pydata.org/pandas-docs/stable/indexing.html#indexing-view-versus-copy\n",
      "  exec(code_obj, self.user_global_ns, self.user_ns)\n"
     ]
    }
   ],
   "source": [
    "#  read in evening beeps\n",
    "eve = df = pd.read_stata(path+'/PRDB_20181122T112857/SANPAR_EVE.dta',convert_categoricals = False)\n",
    "# define the relevant parameters\n",
    "eve = eve[['subjno', 'sanpar_off','sanpar_lang', 'sanpar_lopen', 'sanpar_kleden', 'sanpar_eten', 'sanpar_hygiene', 'sanpar_huish', 'sanpar_vermoeid', '_datetime', '_datetime_e']]\n",
    "eve['duration'] = eve['_datetime_e']- eve['_datetime']\n",
    "\n",
    "mapNames={}\n",
    "for i in range(20):\n",
    "    mapNames[9009989+i]=110001+i\n",
    "\n",
    "eve['castorID'] = [mapNames[e] for e in eve['subjno']]\n",
    "\n",
    "# create dat only item for joining dataframes\n",
    "eve['dateOnly'] = [pd.Timestamp.date(eve['_datetime'][row]) for row in range(len(eve))]\n",
    "# correct for eve's completed after midnight\n",
    "for row in range(len(eve)):\n",
    "    if eve['_datetime'][row].hour < 5:\n",
    "        eve['dateOnly'][row] = eve['dateOnly'][row] - pd.Timedelta('1 day')\n"
   ]
  },
  {
   "cell_type": "code",
   "execution_count": 6,
   "metadata": {
    "scrolled": true
   },
   "outputs": [
    {
     "name": "stderr",
     "output_type": "stream",
     "text": [
      "/anaconda3/lib/python3.6/site-packages/ipykernel_launcher.py:5: SettingWithCopyWarning: \n",
      "A value is trying to be set on a copy of a slice from a DataFrame.\n",
      "Try using .loc[row_indexer,col_indexer] = value instead\n",
      "\n",
      "See the caveats in the documentation: http://pandas.pydata.org/pandas-docs/stable/indexing.html#indexing-view-versus-copy\n",
      "  \"\"\"\n",
      "/anaconda3/lib/python3.6/site-packages/pandas/core/indexing.py:194: SettingWithCopyWarning: \n",
      "A value is trying to be set on a copy of a slice from a DataFrame\n",
      "\n",
      "See the caveats in the documentation: http://pandas.pydata.org/pandas-docs/stable/indexing.html#indexing-view-versus-copy\n",
      "  self._setitem_with_indexer(indexer, value)\n",
      "/anaconda3/lib/python3.6/site-packages/ipykernel_launcher.py:21: SettingWithCopyWarning: \n",
      "A value is trying to be set on a copy of a slice from a DataFrame\n",
      "\n",
      "See the caveats in the documentation: http://pandas.pydata.org/pandas-docs/stable/indexing.html#indexing-view-versus-copy\n"
     ]
    }
   ],
   "source": [
    "# create correct validDays for all valid patients; check code to improve with loops or dictionaries\n",
    "\n",
    "esm['validDay'] = False \n",
    "morning['validDay'] = False \n",
    "eve['validDay'] = False \n",
    "starts = {110001 : pd.Timestamp(2018,8,28), 110002 : pd.Timestamp(2018,8,29),110003 :pd.Timestamp(2018,8,29),110004 :pd.Timestamp(2018,9,21),110005 :pd.Timestamp(2018,10,2),110006 :pd.Timestamp(2018,10,2),110007 :pd.Timestamp(2018,10,10),110008 :pd.Timestamp(2018,10,19),110009 :pd.Timestamp(2018,10,19),110010 :pd.Timestamp(2018,11,7),110011 :pd.Timestamp(2018,11,8),110012 :pd.Timestamp(2018,11,15)}\n",
    "\n",
    "listDays ={}\n",
    "for s in starts.keys():\n",
    "    listDays[s] = pd.date_range(starts[s],periods=14)\n",
    "\n",
    "for row in range(len(esm)):\n",
    "    if esm['dateOnly'].iloc[row] in listDays[esm['castorID'].iloc[row]]:\n",
    "        esm['validDay'].iloc[row] = True\n",
    "\n",
    "for row in range(len(morning)):\n",
    "    if morning['dateOnly'].iloc[row] in listDays[morning['castorID'].iloc[row]]:\n",
    "        morning['validDay'].iloc[row] = True\n",
    "for row in range(len(eve)):\n",
    "    if eve['dateOnly'].iloc[row] in listDays[eve['castorID'].iloc[row]]:\n",
    "        eve['validDay'].iloc[row] = True\n",
    "\n",
    "# create dataset with only beeps of valid days\n",
    "esmValid = esm[esm['validDay'] == True ]\n",
    "esmValid = esmValid[esmValid['castorID'] != 110012 ]\n",
    "# create dataset with only beeps of valid days\n",
    "morning = morning[morning['validDay'] == True ]\n",
    "morning = morning[morning['castorID'] != 110012 ]\n",
    "# create dataset with only beeps of valid days\n",
    "eve = eve[eve['validDay'] == True ]\n",
    "eve = eve[eve['castorID'] != 110012 ]\n"
   ]
  },
  {
   "cell_type": "code",
   "execution_count": 17,
   "metadata": {},
   "outputs": [
    {
     "name": "stderr",
     "output_type": "stream",
     "text": [
      "/anaconda3/lib/python3.6/site-packages/ipykernel_launcher.py:11: SettingWithCopyWarning: \n",
      "A value is trying to be set on a copy of a slice from a DataFrame\n",
      "\n",
      "See the caveats in the documentation: http://pandas.pydata.org/pandas-docs/stable/indexing.html#indexing-view-versus-copy\n",
      "  # This is added back by InteractiveShellApp.init_path()\n",
      "/anaconda3/lib/python3.6/site-packages/ipykernel_launcher.py:21: SettingWithCopyWarning: \n",
      "A value is trying to be set on a copy of a slice from a DataFrame\n",
      "\n",
      "See the caveats in the documentation: http://pandas.pydata.org/pandas-docs/stable/indexing.html#indexing-view-versus-copy\n",
      "/anaconda3/lib/python3.6/site-packages/ipykernel_launcher.py:26: SettingWithCopyWarning: \n",
      "A value is trying to be set on a copy of a slice from a DataFrame\n",
      "\n",
      "See the caveats in the documentation: http://pandas.pydata.org/pandas-docs/stable/indexing.html#indexing-view-versus-copy\n",
      "/anaconda3/lib/python3.6/site-packages/ipykernel_launcher.py:31: SettingWithCopyWarning: \n",
      "A value is trying to be set on a copy of a slice from a DataFrame\n",
      "\n",
      "See the caveats in the documentation: http://pandas.pydata.org/pandas-docs/stable/indexing.html#indexing-view-versus-copy\n"
     ]
    }
   ],
   "source": [
    "## PRE-PROCESSING, obtaining new-relevant variables\n",
    "\n",
    "# creating mean columns for positive and negative affect\n",
    "\n",
    "esmValid['meanPosAff'] = (esmValid['mood_well']+esmValid['mood_cheerf']+esmValid['mood_relax'])/3\n",
    "esmValid['meanNegAff'] = (esmValid['mood_down']+esmValid['mood_fright']+esmValid['mood_tense'])/3\n",
    "\n",
    "# create new OnOff parameter with 1 = OFF, 2 = in between, 3 = ON\n",
    "# 1 = OFF, 3 = ON, 2-4= in between\n",
    "esmValid['OnOffnew'] = esmValid['sanpar_onoff'][:]\n",
    "esmValid['OnOffnew'][esmValid['OnOffnew'] == 4] = 2\n",
    "## 'vectorized programming'\n",
    "\n",
    "# average stijfheid-traagheid\n",
    "esmValid['newBrady'] = (esmValid['sanpar_stijf']+esmValid['sanpar_traag'])/2\n",
    "\n",
    "# add variable on presence of motor fluctuations\n",
    "esmValid['flucPresence'] = 0 # standard for everybody 0 -> not present\n",
    "listIDsFluct = [110002, 110003, 110004, 110006]\n",
    "for id in listIDsFluct:\n",
    "    esmValid['flucPresence'][esmValid['castorID'] == id] = 1\n",
    "\n",
    "esmValid['phenotype'] = 0 # standard for everybody 0 -> bradykinetic/rigid type\n",
    "listIDsTremorDom = [110002, 110007, 110008, 110010, 110011]\n",
    "for id in listIDsTremorDom:\n",
    "    esmValid['phenotype'][esmValid['castorID'] == id] = 1\n",
    "\n",
    "esmValid['DBS'] = 0 # standard for everybody 0 -> no, 1 = yes\n",
    "listIDsDBS = [110002, 110004, 110006] # 110013 also\n",
    "for id in listIDsDBS:\n",
    "    esmValid['DBS'][esmValid['castorID'] == id] = 1\n",
    "\n",
    "eve['averageFunct_eve'] = (eve['sanpar_lopen']+eve['sanpar_kleden']+eve['sanpar_eten']+\n",
    "                                eve['sanpar_hygiene']+eve['sanpar_huish'])/5\n",
    "\n",
    "\n",
    "# creating sub datasets for phenotypes\n",
    "subTremor = esmValid[esmValid['phenotype'] == 1]\n",
    "subRigid = esmValid[esmValid['phenotype'] == 0]\n",
    "\n",
    "# creating sub datasets for presence fluctuations\n",
    "subFluct = esmValid[esmValid['flucPresence'] == 1]\n",
    "subNoFluc = esmValid[esmValid['flucPresence'] == 0]"
   ]
  },
  {
   "cell_type": "code",
   "execution_count": 9,
   "metadata": {},
   "outputs": [
    {
     "name": "stdout",
     "output_type": "stream",
     "text": [
      "(818, 46)\n",
      "(821, 69)\n"
     ]
    }
   ],
   "source": [
    "# merge continuous, morning and evening dataframes\n",
    "esmFused = pd.merge(esmValid, morning, how='left', left_on=['castorID','dateOnly'],right_on=['castorID','dateOnly'], suffixes=('', '_MOR')) # adding rsuffix to give extra string to overlapping column names\n",
    "\n",
    "esmFused = pd.merge(esmFused, eve, how='left', left_on=['castorID','dateOnly'],right_on=['castorID','dateOnly'], suffixes=('', '_EVE')) # adding rsuffix to give extra string to overlapping column names\n",
    "\n",
    "print(esmValid.shape)\n",
    "print(esmFused.shape) # check if there are no rows lost or too many new rows after merging"
   ]
  },
  {
   "cell_type": "code",
   "execution_count": 12,
   "metadata": {
    "scrolled": false
   },
   "outputs": [],
   "source": [
    "## handling missings in ESM rows (1)\n",
    "\n",
    "checkNanData = esmFused.filter(['mood_well', 'mood_down', 'mood_fright', 'mood_tense',\n",
    "       'phy_sleepy', 'phy_tired', 'mood_cheerf', 'mood_relax', 'thou_concent',\n",
    "       'pat_hallu', 'act_norpob', 'sanpar_been',\n",
    "       'sanpar_stil', 'sanpar_spreken', 'sanpar_lopen', 'sanpar_tremor',\n",
    "       'sanpar_traag', 'sanpar_stijf', 'sanpar_spann', 'sanpar_beweeg',\n",
    "       'sanpar_onoff', 'castorID'], axis=1)\n",
    "\n",
    "\n",
    "# visualize which rows have missings in relevant filtered items\n",
    "for row in range(len(checkNanData)):\n",
    "    if checkNanData.iloc[row].isnull().any() == True:\n",
    "        print(checkNanData.iloc[row])"
   ]
  },
  {
   "cell_type": "code",
   "execution_count": 11,
   "metadata": {
    "scrolled": true
   },
   "outputs": [
    {
     "name": "stderr",
     "output_type": "stream",
     "text": [
      "/anaconda3/lib/python3.6/site-packages/ipykernel_launcher.py:2: SettingWithCopyWarning: \n",
      "A value is trying to be set on a copy of a slice from a DataFrame\n",
      "\n",
      "See the caveats in the documentation: http://pandas.pydata.org/pandas-docs/stable/indexing.html#indexing-view-versus-copy\n",
      "  \n"
     ]
    }
   ],
   "source": [
    "# performed all three lines\n",
    "esmFused['sanpar_onoff'][708] = 3\n",
    "esmFused = esmFused.drop([695, 771]) \n"
   ]
  },
  {
   "cell_type": "code",
   "execution_count": 13,
   "metadata": {},
   "outputs": [
    {
     "data": {
      "text/plain": [
       "Index(['subjno', 'mood_well', 'mood_down', 'mood_fright', 'mood_tense',\n",
       "       'phy_sleepy', 'phy_tired', 'mood_cheerf', 'mood_relax', 'thou_concent',\n",
       "       'pat_hallu', 'loc_where', 'soc_who', 'soc_who02', 'soc_who03',\n",
       "       'act_what', 'act_what02', 'act_what03', 'act_norpob', 'sanpar_been',\n",
       "       'sanpar_stil', 'sanpar_spreken', 'sanpar_lopen', 'sanpar_tremor',\n",
       "       'sanpar_traag', 'sanpar_stijf', 'sanpar_spann', 'sanpar_beweeg',\n",
       "       'sanpar_onoff', 'sanpar_medic', 'beep_disturb', '_datetime',\n",
       "       '_datetime_e', 'dayno_n', 'beepno_n', 'duration', 'castorID',\n",
       "       'dateOnly', 'validDay', 'meanPosAff', 'meanNegAff', 'OnOffnew',\n",
       "       'newBrady', 'flucPresence', 'phenotype', 'DBS', 'subjno_MOR',\n",
       "       'mor_sleptwell', 'sanpar_awake', 'mor_rested', 'sanpar_lich',\n",
       "       'sanpar_tired', '_datetime_MOR', '_datetime_e_MOR', 'duration_MOR',\n",
       "       'validDay_MOR', 'subjno_EVE', 'sanpar_off', 'sanpar_lang',\n",
       "       'sanpar_lopen_EVE', 'sanpar_kleden', 'sanpar_eten', 'sanpar_hygiene',\n",
       "       'sanpar_huish', 'sanpar_vermoeid', '_datetime_EVE', '_datetime_e_EVE',\n",
       "       'duration_EVE', 'validDay_EVE'],\n",
       "      dtype='object')"
      ]
     },
     "execution_count": 13,
     "metadata": {},
     "output_type": "execute_result"
    }
   ],
   "source": [
    "esmFused.keys()"
   ]
  },
  {
   "cell_type": "code",
   "execution_count": 14,
   "metadata": {},
   "outputs": [],
   "source": [
    "# rename to english\n",
    "esmFused = esmFused.rename(index=str,columns={'act_norpob':'act_problemless','sanpar_been':'mobility_well',\n",
    "'sanpar_stil':'sit_still','sanpar_spreken':'speech_well','sanpar_lopen':'walk_well',\n",
    "'sanpar_tremor':'tremor','sanpar_traag':'slowness','sanpar_stijf':'stiffness',\n",
    "'sanpar_spann':'muscle_tension','sanpar_beweeg':'dyskinesia','sanpar_awake':'often_awake', \n",
    "'sanpar_lich':'tired_phys', 'sanpar_tired':'tired_ment', 'sanpar_off': 'many_offs',\n",
    "'sanpar_lang':'long_offs', 'sanpar_lopen_EVE':'walk_well_eve', 'sanpar_kleden':'clothing_eve',\n",
    "'sanpar_eten':'eat_well_eve', 'sanpar_hygiene':'personalcare_eve','sanpar_huish':'household_eve',\n",
    "'sanpar_vermoeid':'tired_eve'})\n",
    "\n"
   ]
  },
  {
   "cell_type": "code",
   "execution_count": 15,
   "metadata": {},
   "outputs": [],
   "source": [
    "## create cell to write relevant dataframe to csv\n",
    "\n",
    "esmFused.to_csv('prepDataESM11.csv',index=False)"
   ]
  }
 ],
 "metadata": {
  "kernelspec": {
   "display_name": "Python 3",
   "language": "python",
   "name": "python3"
  },
  "language_info": {
   "codemirror_mode": {
    "name": "ipython",
    "version": 3
   },
   "file_extension": ".py",
   "mimetype": "text/x-python",
   "name": "python",
   "nbconvert_exporter": "python",
   "pygments_lexer": "ipython3",
   "version": "3.6.4"
  }
 },
 "nbformat": 4,
 "nbformat_minor": 2
}
