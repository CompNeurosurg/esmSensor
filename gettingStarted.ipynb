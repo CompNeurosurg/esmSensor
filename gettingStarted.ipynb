{
 "cells": [
  {
   "cell_type": "code",
   "execution_count": 1,
   "metadata": {
    "collapsed": true
   },
   "outputs": [],
   "source": [
    "from mne.filter import filter_data\n",
    "import pandas as pd"
   ]
  },
  {
   "cell_type": "code",
   "execution_count": 2,
   "metadata": {},
   "outputs": [],
   "source": [
    "import matplotlib.pyplot as plt\n",
    "%matplotlib inline\n",
    "import pyedflib\n",
    "import numpy as np"
   ]
  },
  {
   "cell_type": "code",
   "execution_count": 8,
   "metadata": {
    "collapsed": true
   },
   "outputs": [],
   "source": [
    "def readData(filename):\n",
    "    #Extract data\n",
    "    f = pyedflib.EdfReader(filename)\n",
    "    n = f.signals_in_file\n",
    "    signal_labels = f.getSignalLabels()\n",
    "    sigbufs = np.zeros((n, f.getNSamples()[0]))\n",
    "    for i in np.arange(n):\n",
    "        sigbufs[i, :] = f.readSignal(i)\n",
    "    #Get starting time\n",
    "    startingTime=filename[-19:-4]\n",
    "    startingTime=pd.to_datetime(startingTime, format='%Y%m%d_%H%M%S', errors='ignore')\n",
    "    timeStamps=[]\n",
    "    last=startingTime\n",
    "    for time in range(f.getNSamples()[0]):\n",
    "        timeStamps.append(last)\n",
    "        last=last+pd.Timedelta('40 ms')\n",
    "    return signal_labels, timeStamps, sigbufs\n",
    "    f._close()"
   ]
  },
  {
   "cell_type": "code",
   "execution_count": 16,
   "metadata": {
    "collapsed": true
   },
   "outputs": [],
   "source": [
    "def extractFeatures(data, timeStamps, sr, windowLength):\n",
    "    #Filter data between 4 and 8 Hz\n",
    "    filtData = filter_data(data, sr, 4,8)\n",
    "\n",
    "    #Extract some sort of feature for all windows and corresponding time stamps\n",
    "    numSamples=data.shape[1]\n",
    "    features=np.zeros((data.shape[0],int(numSamples/(windowLength*sr))))\n",
    "    alignedTimes=[]\n",
    "    for i,win in enumerate(range(0,numSamples,windowLength*sr)):\n",
    "        if i<features.shape[1]:\n",
    "            #Average power per channel\n",
    "            features[:,i]=np.mean(filtData[:,win:win+windowLength*sr]**2,axis=1)\n",
    "            #Timestamp at beginning of each window\n",
    "            alignedTimes.append(timeStamps[win])\n",
    "    return alignedTimes, features"
   ]
  },
  {
   "cell_type": "code",
   "execution_count": 19,
   "metadata": {
    "scrolled": true
   },
   "outputs": [],
   "source": [
    "labels, timeStamps, data = readData(\"test_data_Maastricht/13337_20180203_094429.bdf\")"
   ]
  },
  {
   "cell_type": "code",
   "execution_count": 37,
   "metadata": {
    "scrolled": true
   },
   "outputs": [
    {
     "name": "stdout",
     "output_type": "stream",
     "text": [
      "Setting up band-pass filter from 4 - 8 Hz\n",
      "fir_design defaults to \"firwin2\" in 0.15 but will change to \"firwin\" in 0.16, set it explicitly to avoid this warning.\n",
      "l_trans_bandwidth chosen to be 2.0 Hz\n",
      "h_trans_bandwidth chosen to be 2.0 Hz\n",
      "Filter length of 82 samples (3.280 sec) selected\n"
     ]
    },
    {
     "name": "stderr",
     "output_type": "stream",
     "text": [
      "<ipython-input-16-1ed0146448dd>:3: DeprecationWarning: fir_design defaults to \"firwin2\" in 0.15 but will change to \"firwin\" in 0.16, set it explicitly to avoid this warning.\n",
      "  filtData = filter_data(data, sr, 4,8)\n"
     ]
    }
   ],
   "source": [
    "alignedTimes, features = extractFeatures(data, timeStamps, 25, 60)\n",
    "dataFrame=pd.DataFrame(features.T,columns=labels)\n",
    "dataFrame.index=alignedTimes\n"
   ]
  },
  {
   "cell_type": "code",
   "execution_count": 34,
   "metadata": {},
   "outputs": [
    {
     "data": {
      "text/html": [
       "<div>\n",
       "<style>\n",
       "    .dataframe thead tr:only-child th {\n",
       "        text-align: right;\n",
       "    }\n",
       "\n",
       "    .dataframe thead th {\n",
       "        text-align: left;\n",
       "    }\n",
       "\n",
       "    .dataframe tbody tr th {\n",
       "        vertical-align: top;\n",
       "    }\n",
       "</style>\n",
       "<table border=\"1\" class=\"dataframe\">\n",
       "  <thead>\n",
       "    <tr style=\"text-align: right;\">\n",
       "      <th></th>\n",
       "      <th>X</th>\n",
       "      <th>Y</th>\n",
       "      <th>Z</th>\n",
       "      <th>AccX</th>\n",
       "      <th>AccY</th>\n",
       "      <th>AccZ</th>\n",
       "      <th>GyroX</th>\n",
       "      <th>GyroY</th>\n",
       "      <th>GyroZ</th>\n",
       "    </tr>\n",
       "  </thead>\n",
       "  <tbody>\n",
       "    <tr>\n",
       "      <th>count</th>\n",
       "      <td>854.000000</td>\n",
       "      <td>854.000000</td>\n",
       "      <td>854.000000</td>\n",
       "      <td>854.000000</td>\n",
       "      <td>854.000000</td>\n",
       "      <td>854.000000</td>\n",
       "      <td>854.000000</td>\n",
       "      <td>854.000000</td>\n",
       "      <td>854.000000</td>\n",
       "    </tr>\n",
       "    <tr>\n",
       "      <th>mean</th>\n",
       "      <td>0.018329</td>\n",
       "      <td>0.052233</td>\n",
       "      <td>0.029798</td>\n",
       "      <td>0.014096</td>\n",
       "      <td>0.030738</td>\n",
       "      <td>0.021451</td>\n",
       "      <td>1679.918812</td>\n",
       "      <td>954.067037</td>\n",
       "      <td>398.085895</td>\n",
       "    </tr>\n",
       "    <tr>\n",
       "      <th>std</th>\n",
       "      <td>0.064760</td>\n",
       "      <td>0.231544</td>\n",
       "      <td>0.077028</td>\n",
       "      <td>0.068806</td>\n",
       "      <td>0.135282</td>\n",
       "      <td>0.113479</td>\n",
       "      <td>10392.378577</td>\n",
       "      <td>6620.337197</td>\n",
       "      <td>2923.135051</td>\n",
       "    </tr>\n",
       "    <tr>\n",
       "      <th>min</th>\n",
       "      <td>0.001315</td>\n",
       "      <td>0.000264</td>\n",
       "      <td>0.000221</td>\n",
       "      <td>0.000014</td>\n",
       "      <td>0.000011</td>\n",
       "      <td>0.000015</td>\n",
       "      <td>10.545352</td>\n",
       "      <td>10.631776</td>\n",
       "      <td>10.771185</td>\n",
       "    </tr>\n",
       "    <tr>\n",
       "      <th>25%</th>\n",
       "      <td>0.001720</td>\n",
       "      <td>0.000430</td>\n",
       "      <td>0.000352</td>\n",
       "      <td>0.000021</td>\n",
       "      <td>0.000017</td>\n",
       "      <td>0.000026</td>\n",
       "      <td>15.663979</td>\n",
       "      <td>15.286497</td>\n",
       "      <td>16.090390</td>\n",
       "    </tr>\n",
       "    <tr>\n",
       "      <th>50%</th>\n",
       "      <td>0.001964</td>\n",
       "      <td>0.000544</td>\n",
       "      <td>0.000419</td>\n",
       "      <td>0.000026</td>\n",
       "      <td>0.000020</td>\n",
       "      <td>0.000034</td>\n",
       "      <td>19.502630</td>\n",
       "      <td>18.618370</td>\n",
       "      <td>19.876916</td>\n",
       "    </tr>\n",
       "    <tr>\n",
       "      <th>75%</th>\n",
       "      <td>0.017202</td>\n",
       "      <td>0.036392</td>\n",
       "      <td>0.019653</td>\n",
       "      <td>0.011678</td>\n",
       "      <td>0.020037</td>\n",
       "      <td>0.012051</td>\n",
       "      <td>894.744681</td>\n",
       "      <td>459.610407</td>\n",
       "      <td>136.498995</td>\n",
       "    </tr>\n",
       "    <tr>\n",
       "      <th>max</th>\n",
       "      <td>1.502728</td>\n",
       "      <td>5.362913</td>\n",
       "      <td>0.991879</td>\n",
       "      <td>1.588030</td>\n",
       "      <td>2.911256</td>\n",
       "      <td>2.554149</td>\n",
       "      <td>200162.759146</td>\n",
       "      <td>136026.183668</td>\n",
       "      <td>72486.776157</td>\n",
       "    </tr>\n",
       "  </tbody>\n",
       "</table>\n",
       "</div>"
      ],
      "text/plain": [
       "                X           Y           Z        AccX        AccY        AccZ  \\\n",
       "count  854.000000  854.000000  854.000000  854.000000  854.000000  854.000000   \n",
       "mean     0.018329    0.052233    0.029798    0.014096    0.030738    0.021451   \n",
       "std      0.064760    0.231544    0.077028    0.068806    0.135282    0.113479   \n",
       "min      0.001315    0.000264    0.000221    0.000014    0.000011    0.000015   \n",
       "25%      0.001720    0.000430    0.000352    0.000021    0.000017    0.000026   \n",
       "50%      0.001964    0.000544    0.000419    0.000026    0.000020    0.000034   \n",
       "75%      0.017202    0.036392    0.019653    0.011678    0.020037    0.012051   \n",
       "max      1.502728    5.362913    0.991879    1.588030    2.911256    2.554149   \n",
       "\n",
       "               GyroX          GyroY         GyroZ  \n",
       "count     854.000000     854.000000    854.000000  \n",
       "mean     1679.918812     954.067037    398.085895  \n",
       "std     10392.378577    6620.337197   2923.135051  \n",
       "min        10.545352      10.631776     10.771185  \n",
       "25%        15.663979      15.286497     16.090390  \n",
       "50%        19.502630      18.618370     19.876916  \n",
       "75%       894.744681     459.610407    136.498995  \n",
       "max    200162.759146  136026.183668  72486.776157  "
      ]
     },
     "execution_count": 34,
     "metadata": {},
     "output_type": "execute_result"
    }
   ],
   "source": [
    "dataFrame.describe()"
   ]
  },
  {
   "cell_type": "code",
   "execution_count": 22,
   "metadata": {},
   "outputs": [
    {
     "ename": "NameError",
     "evalue": "name 'data' is not defined",
     "output_type": "error",
     "traceback": [
      "\u001b[0;31m---------------------------------------------------------------------------\u001b[0m",
      "\u001b[0;31mNameError\u001b[0m                                 Traceback (most recent call last)",
      "\u001b[0;32m<ipython-input-22-25e739b2aa30>\u001b[0m in \u001b[0;36m<module>\u001b[0;34m()\u001b[0m\n\u001b[0;32m----> 1\u001b[0;31m \u001b[0mprint\u001b[0m \u001b[0;34m(\u001b[0m\u001b[0mdata\u001b[0m\u001b[0;34m.\u001b[0m\u001b[0mFrame\u001b[0m\u001b[0;34m[\u001b[0m\u001b[0;34m'X'\u001b[0m\u001b[0;34m]\u001b[0m\u001b[0;34m)\u001b[0m\u001b[0;34m\u001b[0m\u001b[0m\n\u001b[0m",
      "\u001b[0;31mNameError\u001b[0m: name 'data' is not defined"
     ]
    }
   ],
   "source": []
  },
  {
   "cell_type": "code",
   "execution_count": 38,
   "metadata": {
    "scrolled": false
   },
   "outputs": [
    {
     "data": {
      "text/plain": [
       "<matplotlib.axes._subplots.AxesSubplot at 0x7f2abd531da0>"
      ]
     },
     "execution_count": 38,
     "metadata": {},
     "output_type": "execute_result"
    },
    {
     "data": {
      "image/png": "[encoded data removed]",
      "text/plain": [
       "<matplotlib.figure.Figure at 0x7f2abd54dc50>"
      ]
     },
     "metadata": {},
     "output_type": "display_data"
    }
   ],
   "source": [
    "# Visualizing some of our features:\n",
    "dataFrame['AccX'].plot()"
   ]
  }
 ],
 "metadata": {
  "kernelspec": {
   "display_name": "Python 3",
   "language": "python",
   "name": "python3"
  },
  "language_info": {
   "codemirror_mode": {
    "name": "ipython",
    "version": 3
   },
   "file_extension": ".py",
   "mimetype": "text/x-python",
   "name": "python",
   "nbconvert_exporter": "python",
   "pygments_lexer": "ipython3",
   "version": "3.6.4"
  }
 },
 "nbformat": 4,
 "nbformat_minor": 2
}
