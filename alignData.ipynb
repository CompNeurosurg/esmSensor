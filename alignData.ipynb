{
 "cells": [
  {
   "cell_type": "code",
   "execution_count": 4,
   "metadata": {},
   "outputs": [],
   "source": [
    "import pandas as pd\n",
    "import matplotlib.pyplot as plt\n",
    "%matplotlib inline\n",
    "import pyedflib\n",
    "import numpy as np\n",
    "from datetime import timedelta\n",
    "from scipy.signal import decimate\n",
    "import time\n",
    "from os import listdir\n",
    "    #method listdir() returns a list containing the names of the entries in the directory given by path.\n",
    "from os.path import isfile, join\n",
    "    #returns true if file in path is an existing regular file\n",
    "    \n",
    "\n",
    "path = \"Y:/ADBS\"\n",
    "downsampling=2"
   ]
  },
  {
   "cell_type": "code",
   "execution_count": 6,
   "metadata": {
    "scrolled": false
   },
   "outputs": [
    {
     "name": "stderr",
     "output_type": "stream",
     "text": [
      "C:\\ProgramData\\Miniconda3\\envs\\p3\\lib\\site-packages\\ipykernel_launcher.py:10: SettingWithCopyWarning: \n",
      "A value is trying to be set on a copy of a slice from a DataFrame.\n",
      "Try using .loc[row_indexer,col_indexer] = value instead\n",
      "\n",
      "See the caveats in the documentation: http://pandas.pydata.org/pandas-docs/stable/indexing.html#indexing-view-versus-copy\n",
      "  # Remove the CWD from sys.path while we load stuff.\n"
     ]
    }
   ],
   "source": [
    "# prepare ESM export from server\n",
    "esm = df = pd.read_stata(path+'/esmDataPilot/PRDB_20181025T115653/SANPAR_BE.dta',convert_categoricals = False)\n",
    "esm = esm[['subjno', 'mood_well', 'mood_down', 'mood_fright', 'mood_tense', 'phy_sleepy', 'phy_tired',\n",
    "       'mood_cheerf', 'mood_relax', 'thou_concent', 'pat_hallu', 'loc_where',\n",
    "       'soc_who', 'soc_who02', 'soc_who03', 'act_what', 'act_what02',\n",
    "       'act_what03', 'act_norpob', 'sanpar_been', 'sanpar_stil',\n",
    "       'sanpar_spreken', 'sanpar_lopen', 'sanpar_tremor', 'sanpar_traag',\n",
    "       'sanpar_stijf', 'sanpar_spann', 'sanpar_beweeg', 'sanpar_onoff',\n",
    "       'sanpar_medic', 'beep_disturb', '_datetime', '_datetime_e', 'dayno_n', 'beepno_n']]\n",
    "esm['duration'] = esm['_datetime_e']-esm['_datetime']\n",
    "# rename to english\n",
    "esm = esm.rename(index=str,columns={'sanpar_been':'prob_mobility','sanpar_stil':'prob_stillness','sanpar_spreken':'prob_speech','sanpar_lopen':'prob_walking','sanpar_tremor':'temor','sanpar_traag':'slowness','sanpar_stijf':'stiffness','sanpar_spann':'tension','sanpar_beweeg':'dyskinesia','sanpar_onoff':'onoff','sanpar_medic':'medic'})\n",
    "\n",
    "\n",
    "\n",
    "mapNames={}\n",
    "for i in range(20):\n",
    "    mapNames[9009989+i]=110001+i\n",
    "\n",
    "esm['castorID'] = [mapNames[e] for e in esm['subjno']]"
   ]
  },
  {
   "cell_type": "code",
   "execution_count": 7,
   "metadata": {},
   "outputs": [],
   "source": [
    "# create list of files per L/R/chest from directory (mypath)\n",
    "\n",
    "leftSensors = ['13797','13799','13794']\n",
    "rightSensors = ['13805','13801','13793']\n",
    "chestSensors = ['13804','13792','13803']\n",
    "\n",
    "featureWindowLength=60\n",
    "windowLength=60\n",
    "esmWindowLength=15\n",
    "\n",
    "mypath = 'C:/data/raw/MOX/110005/'\n",
    "bdffiles = [f for f in listdir(mypath) if isfile(join(mypath,f)) and f[0]!='_' and f[-3:] =='edf']\n",
    "#bdffiles are the files in mypath, not directories\n",
    "\n",
    "leftFiles = []\n",
    "rightFiles = []\n",
    "chestFiles = []\n",
    "\n",
    "for f in bdffiles:\n",
    "    if f[0:5] in leftSensors:\n",
    "        leftFiles.append(mypath + f)\n",
    "    elif f[0:5] in rightSensors:\n",
    "        rightFiles.append(mypath + f)\n",
    "    elif f[0:5] in chestSensors:\n",
    "        chestFiles.append(mypath + f)\n",
    "\n",
    "leftFiles=sorted(leftFiles)\n",
    "rightFiles=sorted(rightFiles)\n",
    "chestFiles=sorted(chestFiles)"
   ]
  },
  {
   "cell_type": "code",
   "execution_count": 14,
   "metadata": {},
   "outputs": [
    {
     "data": {
      "text/plain": [
       "<matplotlib.image.AxesImage at 0x26580ebfd68>"
      ]
     },
     "execution_count": 14,
     "metadata": {},
     "output_type": "execute_result"
    },
    {
     "data": {
      "image/png": "[encoded data removed]",
      "text/plain": [
       "<Figure size 288x1152 with 1 Axes>"
      ]
     },
     "metadata": {
      "needs_background": "light"
     },
     "output_type": "display_data"
    }
   ],
   "source": [
    "plt.matshow(trialData[0,:,0:2],aspect='auto')"
   ]
  },
  {
   "cell_type": "code",
   "execution_count": 12,
   "metadata": {},
   "outputs": [
    {
     "name": "stdout",
     "output_type": "stream",
     "text": [
      "(69, 90000, 18)\n",
      "(69, 37)\n"
     ]
    }
   ],
   "source": [
    "print(trialData.shape)\n",
    "print(selectedESM.shape)\n",
    "np.save('C:/data/processed/ESM_pilot/trials.npy',trialData)\n",
    "selectedESM.to_csv('C:\\data\\processed\\ESM_pilot\\esm.csv',index=False)"
   ]
  },
  {
   "cell_type": "code",
   "execution_count": 11,
   "metadata": {
    "scrolled": true
   },
   "outputs": [
    {
     "name": "stdout",
     "output_type": "stream",
     "text": [
      "C:/data/raw/MOX/110005/13799_20181002_060804.edf\n"
     ]
    },
    {
     "name": "stderr",
     "output_type": "stream",
     "text": [
      "C:\\ProgramData\\Miniconda3\\envs\\p3\\lib\\site-packages\\scipy\\signal\\_arraytools.py:45: FutureWarning: Using a non-tuple sequence for multidimensional indexing is deprecated; use `arr[tuple(seq)]` instead of `arr[seq]`. In the future this will be interpreted as an array index, `arr[np.array(seq)]`, which will result either in an error or a different result.\n",
      "  b = a[a_slice]\n",
      "C:\\ProgramData\\Miniconda3\\envs\\p3\\lib\\site-packages\\scipy\\signal\\signaltools.py:3463: FutureWarning: Using a non-tuple sequence for multidimensional indexing is deprecated; use `arr[tuple(seq)]` instead of `arr[seq]`. In the future this will be interpreted as an array index, `arr[np.array(seq)]`, which will result either in an error or a different result.\n",
      "  return y[sl]\n"
     ]
    },
    {
     "name": "stdout",
     "output_type": "stream",
     "text": [
      "C:/data/raw/MOX/110005/13799_20181003_070253.edf\n",
      "C:/data/raw/MOX/110005/13799_20181003_070253.edf is broken\n",
      "C:/data/raw/MOX/110005/13799_20181003_070256.edf\n",
      "C:/data/raw/MOX/110005/13799_20181004_000000.edf\n",
      "C:/data/raw/MOX/110005/13799_20181004_083502.edf\n",
      "C:/data/raw/MOX/110005/13799_20181005_074601.edf\n",
      "C:/data/raw/MOX/110005/13799_20181006_000000.edf\n",
      "C:/data/raw/MOX/110005/13799_20181006_084256.edf\n",
      "C:/data/raw/MOX/110005/13799_20181007_082759.edf\n",
      "C:/data/raw/MOX/110005/13799_20181008_083214.edf\n",
      "C:/data/raw/MOX/110005/13799_20181009_081701.edf\n",
      "C:/data/raw/MOX/110005/13799_20181010_071928.edf\n",
      "C:/data/raw/MOX/110005/13799_20181011_000000.edf\n",
      "C:/data/raw/MOX/110005/13799_20181011_075902.edf\n",
      "C:/data/raw/MOX/110005/13799_20181012_080146.edf\n",
      "C:/data/raw/MOX/110005/13799_20181013_000000.edf\n",
      "C:/data/raw/MOX/110005/13799_20181013_084619.edf\n",
      "C:/data/raw/MOX/110005/13799_20181014_000000.edf\n",
      "C:/data/raw/MOX/110005/13799_20181014_082141.edf\n",
      "C:/data/raw/MOX/110005/13799_20181015_000000.edf\n",
      "C:/data/raw/MOX/110005/13799_20181015_082715.edf\n",
      "C:/data/raw/MOX/110005/13801_20181002_060809.edf\n",
      "C:/data/raw/MOX/110005/13801_20181003_070256.edf\n",
      "C:/data/raw/MOX/110005/13801_20181004_000000.edf\n",
      "C:/data/raw/MOX/110005/13801_20181004_083502.edf\n",
      "C:/data/raw/MOX/110005/13801_20181005_074600.edf\n",
      "C:/data/raw/MOX/110005/13801_20181006_000000.edf\n",
      "C:/data/raw/MOX/110005/13801_20181006_084254.edf\n",
      "C:/data/raw/MOX/110005/13801_20181007_082756.edf\n",
      "C:/data/raw/MOX/110005/13801_20181008_083213.edf\n",
      "C:/data/raw/MOX/110005/13801_20181009_081702.edf\n",
      "C:/data/raw/MOX/110005/13801_20181010_071929.edf\n",
      "C:/data/raw/MOX/110005/13801_20181011_000000.edf\n",
      "C:/data/raw/MOX/110005/13801_20181011_075901.edf\n",
      "C:/data/raw/MOX/110005/13801_20181012_080143.edf\n",
      "C:/data/raw/MOX/110005/13801_20181013_000000.edf\n",
      "C:/data/raw/MOX/110005/13801_20181013_084617.edf\n",
      "C:/data/raw/MOX/110005/13801_20181014_000000.edf\n",
      "C:/data/raw/MOX/110005/13801_20181014_082139.edf\n",
      "C:/data/raw/MOX/110005/13801_20181015_000000.edf\n",
      "C:/data/raw/MOX/110005/13801_20181015_082713.edf\n",
      "C:/data/raw/MOX/110005/13792_20181002_060800.edf\n",
      "C:/data/raw/MOX/110005/13792_20181003_070254.edf\n",
      "C:/data/raw/MOX/110005/13792_20181004_000000.edf\n",
      "C:/data/raw/MOX/110005/13792_20181004_083500.edf\n",
      "C:/data/raw/MOX/110005/13792_20181005_074557.edf\n",
      "C:/data/raw/MOX/110005/13792_20181006_000000.edf\n",
      "C:/data/raw/MOX/110005/13792_20181006_084251.edf\n",
      "C:/data/raw/MOX/110005/13792_20181007_082754.edf\n",
      "C:/data/raw/MOX/110005/13792_20181008_083207.edf\n",
      "C:/data/raw/MOX/110005/13792_20181009_081656.edf\n",
      "C:/data/raw/MOX/110005/13792_20181010_071922.edf\n",
      "C:/data/raw/MOX/110005/13792_20181011_000000.edf\n",
      "C:/data/raw/MOX/110005/13792_20181011_075853.edf\n",
      "C:/data/raw/MOX/110005/13792_20181012_080136.edf\n",
      "C:/data/raw/MOX/110005/13792_20181013_000000.edf\n",
      "C:/data/raw/MOX/110005/13792_20181013_084608.edf\n",
      "C:/data/raw/MOX/110005/13792_20181014_000000.edf\n",
      "C:/data/raw/MOX/110005/13792_20181014_082130.edf\n",
      "C:/data/raw/MOX/110005/13792_20181015_000000.edf\n",
      "C:/data/raw/MOX/110005/13792_20181015_082703.edf\n",
      "788.3066620826721\n"
     ]
    }
   ],
   "source": [
    "t=time.time()\n",
    "trialData,selectedESM = extractRawTrials(leftFiles,rightFiles,chestFiles,esm[esm['castorID']==110005])\n",
    "print(time.time()-t)"
   ]
  },
  {
   "cell_type": "code",
   "execution_count": 8,
   "metadata": {},
   "outputs": [],
   "source": [
    "def extractRawTrials(leftFiles,rightFiles,chestFiles,esmFrame,esmWindowLength=15,featureWindowLength=60):\n",
    "    # Read in the three list of files\n",
    "    #Process leftWristData\n",
    "    leftWristDF=[]\n",
    "    rightWristDF=[]\n",
    "    chestDF=[]\n",
    "    \n",
    "    files = [leftFiles, rightFiles, chestFiles]\n",
    "    trials = [[[] for _ in range(esmFrame.shape[0])],[[] for _ in range(esmFrame.shape[0])], [[] for _ in range(esmFrame.shape[0])]]\n",
    "    identifiers = ['l', 'r', 'c']\n",
    "    foundTrials = np.zeros((esmFrame.shape[0],3))\n",
    "    for i, f in enumerate(files):\n",
    "        for file in f:\n",
    "            print(file)\n",
    "            try:\n",
    "                labels, timeStamps, data, sr = readData(file) ## as input instead: leftFiles\n",
    "                if data.shape[1]<sr * featureWindowLength:\n",
    "                    raise ValueError('File too short to proceed.')\n",
    "            except:\n",
    "                print('%s is broken' % file)\n",
    "                continue\n",
    "            data = pd.DataFrame(data.T,index=timeStamps)\n",
    "            for beep in range(esmFrame.shape[0]):\n",
    "                if foundTrials[beep,i]==1:\n",
    "                    continue\n",
    "                beepTime=esmFrame['_datetime'].iloc[beep] # Get the corresponding time\n",
    "                timediff = np.min(np.abs(data.index-beepTime)) \n",
    "                # Find corresponding moment for beep time in the sensor data\n",
    "                #print(timediff)\n",
    "                if timediff>timedelta(minutes=esmWindowLength):\n",
    "                # If corresponding time is too far off, remove beep\n",
    "                #print(\"Couldn't find corresponding sensor data\")\n",
    "                    continue\n",
    "                pos=np.argmin(np.abs(data.index-beepTime))\n",
    "                # For the smallest time difference find the position in the sensor data\n",
    "                if pos>esmWindowLength*windowLength*sr:\n",
    "                    trials[i][beep] = data.iloc[pos-(int(esmWindowLength*windowLength*sr)):pos]\n",
    "                    foundTrials[beep,i]=1\n",
    "\n",
    "    keep = np.sum(foundTrials,axis=1)==3\n",
    "    trialData = np.zeros((np.sum(keep),int(esmWindowLength*windowLength*sr), 3 * 6))\n",
    "    counter =0\n",
    "    for beep in range(esmFrame.shape[0]):\n",
    "        if keep[beep]:\n",
    "            temp = np.concatenate((trials[0][beep],trials[1][beep],trials[2][beep]),axis=1)\n",
    "            trialData[counter,:,:]=temp\n",
    "            counter+=1\n",
    "    foundESM = esmFrame.iloc[keep,:]   \n",
    "    return trialData,  foundESM"
   ]
  },
  {
   "cell_type": "code",
   "execution_count": 10,
   "metadata": {},
   "outputs": [],
   "source": [
    "def readData(filename): \n",
    "    #Extract data\n",
    "    f = pyedflib.EdfReader(filename)\n",
    "    sr = f.getSampleFrequencies()[0]\n",
    "    n = f.signals_in_file\n",
    "    signal_labels = f.getSignalLabels()\n",
    "    sigbufs = np.zeros((n, f.getNSamples()[0]))\n",
    "    for i in np.arange(n):\n",
    "        sigbufs[i, :] = f.readSignal(i)    \n",
    "    #Get starting time\n",
    "    startingTime=f.getStartdatetime() #needs to be tested\n",
    "    #startingTime=filename[-19:-4]\n",
    "    #startingTime=pd.to_datetime(startingTime, format='%Y%m%d_%H%M%S', errors='ignore')\n",
    "    #print(startingTime)\n",
    "    sigbufs = decimate(sigbufs,downsampling,axis=1)\n",
    "    sr=sr/downsampling\n",
    "    timeStamps=pd.date_range(start=startingTime,periods=sigbufs.shape[1],freq='%d ms' % (1000/sr))\n",
    "    return signal_labels, timeStamps, sigbufs, sr"
   ]
  },
  {
   "cell_type": "code",
   "execution_count": null,
   "metadata": {},
   "outputs": [],
   "source": [
    "def alignFeaturesESM(listOfDF,esmFrame,esmColumns,esmWindowLength=15):\n",
    "    \n",
    "    combinedColumns=esmColumns\n",
    "    for featureFrame in listOfDF:\n",
    "        combinedColumns= combinedColumns + featureFrame.keys().tolist()  \n",
    "    esmFeatures=pd.DataFrame(columns=combinedColumns) # Create new empty dataframe with feature and esm columns\n",
    "\n",
    "    hop=np.mean(np.diff(listOfDF[0].index))\n",
    "    for beep in range(esmFrame.shape[0]): #Loop through all the ESM Beeps\n",
    "        beepTime=esmFrame['_datetime'].iloc[beep] # Get the corresponding time\n",
    "        \n",
    "        esmData=np.matlib.repmat(esmFrame.iloc[beep][esmColumns],esmWindowLength,1)\n",
    "        combined=esmData\n",
    "        \n",
    "        subIndex=[beepTime-hop*t for t in range(esmWindowLength)][::-1]\n",
    "        for featureFrame in listOfDF:\n",
    "        \n",
    "        \n",
    "            timediff = np.min(np.abs(featureFrame.index-beepTime)) \n",
    "            # Find corresponding moment for beep time in the sensor data\n",
    "            #print(timediff)\n",
    "            if timediff>timedelta(minutes=esmWindowLength):\n",
    "                # If corresponding time is too far off, remove beep\n",
    "                #print(\"Couldn't find corresponding sensor data\")\n",
    "                continue\n",
    "            pos=np.argmin(np.abs(featureFrame.index-beepTime))\n",
    "            # For the smallest time difference find the position in the sensor data\n",
    "            if pos>esmWindowLength:\n",
    "                featColumns=featureFrame.keys().tolist() #The names of the features                \n",
    "                featData=featureFrame.iloc[pos-esmWindowLength:pos][featColumns].values\n",
    "                # Get corresponding timestamps\n",
    "                \n",
    "                # Repeat ESM data for each data point in the window\n",
    "                combined=np.concatenate((combined,featData),axis=1)\n",
    "                #Combine ESM & feature data\n",
    "        if combined.shape[1]==len(combinedColumns):\n",
    "            esmFeatures=esmFeatures.append(pd.DataFrame(combined,columns=combinedColumns,index=subIndex))\n",
    "                #Append combined data to the dataframe\n",
    "    return esmFeatures"
   ]
  },
  {
   "cell_type": "code",
   "execution_count": null,
   "metadata": {},
   "outputs": [],
   "source": [
    "### Transform Gyro data into orientation estimation\n",
    "from madgwickahrs import MadgwickAHRS\n",
    "mw = MadgwickAHRS(sampleperiod=1/sr)\n",
    "euler = np.zeros((3,sigbufs.shape[1]))\n",
    "for sample in range(sigbufs.shape[1]):\n",
    "    mw.update_imu(sigbufs[6:,sample],sigbufs[3:6,sample])\n",
    "    euler[:,sample] = mw.quaternion.to_euler123()"
   ]
  },
  {
   "cell_type": "code",
   "execution_count": null,
   "metadata": {},
   "outputs": [],
   "source": [
    "plt.matshow(euler,aspect='auto')\n",
    "plt.yticks([0,1,2],['Roll', 'Pitch', 'Yaw'])\n",
    "plt.xlabel('Time in samples')\n",
    "plt.show()"
   ]
  }
 ],
 "metadata": {
  "kernelspec": {
   "display_name": "Python 3",
   "language": "python",
   "name": "python3"
  },
  "language_info": {
   "codemirror_mode": {
    "name": "ipython",
    "version": 3
   },
   "file_extension": ".py",
   "mimetype": "text/x-python",
   "name": "python",
   "nbconvert_exporter": "python",
   "pygments_lexer": "ipython3",
   "version": "3.6.6"
  }
 },
 "nbformat": 4,
 "nbformat_minor": 2
}
