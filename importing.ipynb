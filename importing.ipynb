{
 "cells": [
  {
   "cell_type": "code",
   "execution_count": 1,
   "metadata": {},
   "outputs": [],
   "source": [
    "##### IMPORTING SENSORS AND ESM FROM ONE DAY INTO ALIGNED DATAFRAME #####\n",
    "import dataProcessing as dP # importing .py function with all data reading/extracting functions\n",
    "import pandas as pd"
   ]
  },
  {
   "cell_type": "code",
   "execution_count": 2,
   "metadata": {},
   "outputs": [],
   "source": [
    "featureWindowLength=60\n",
    "esmWindowLength=15\n",
    "leftWristFile=\"13337_20180203_094429.bdf\"\n",
    "rightWristFile=\"13337_20180203_094429.bdf\"\n",
    "chestFile=\"13337_20180203_094429.bdf\""
   ]
  },
  {
   "cell_type": "code",
   "execution_count": 3,
   "metadata": {
    "scrolled": true
   },
   "outputs": [],
   "source": [
    "#Extract features for chest and both wrists\n",
    "l,r,c = dP.extractAllSensors(leftWristFile,rightWristFile,chestFile,60)"
   ]
  },
  {
   "cell_type": "code",
   "execution_count": 4,
   "metadata": {},
   "outputs": [],
   "source": [
    "# Reading ESM excel data\n",
    "esm = pd.read_excel('r_esm14d.xlsx')\n",
    "esm['timeStamp']=pd.to_datetime(esm['timeStamp']) # Transform strings containing date/time to datetime objects\n",
    "esm.index=esm['timeStamp'] # Set datetime objects as the index\n",
    "# Combining the three feature sets and ESM data\n",
    "columns=['day','beep','sleep', 'stress', 'cheerful', 'relaxed', 'content', 'irritated','down', 'tremor', 'rigid', 'hinder', 'hinder2']"
   ]
  },
  {
   "cell_type": "code",
   "execution_count": 5,
   "metadata": {},
   "outputs": [],
   "source": [
    "#Align them to the ESM File\n",
    "aligned = dP.alignFeaturesESM([l,r,c],esm,columns,esmWindowLength=15)\n",
    "aligned['ConsecutiveBeep'] = (aligned['day']-1)*7 + aligned['beep']\n",
    "# Drop all lines with missing values\n",
    "# This definitely needs to be refined for real data\n",
    "aligned = aligned.dropna()\n",
    "\n",
    "### READY TO ANALYSE ###"
   ]
  }
 ],
 "metadata": {
  "kernelspec": {
   "display_name": "Python 3",
   "language": "python",
   "name": "python3"
  },
  "language_info": {
   "codemirror_mode": {
    "name": "ipython",
    "version": 3
   },
   "file_extension": ".py",
   "mimetype": "text/x-python",
   "name": "python",
   "nbconvert_exporter": "python",
   "pygments_lexer": "ipython3",
   "version": "3.6.4"
  }
 },
 "nbformat": 4,
 "nbformat_minor": 2
}
